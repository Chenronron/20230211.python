{
  "nbformat": 4,
  "nbformat_minor": 0,
  "metadata": {
    "colab": {
      "provenance": [],
      "authorship_tag": "ABX9TyOAYqBkwR8g/iWA1qRtLhfy",
      "include_colab_link": true
    },
    "kernelspec": {
      "name": "python3",
      "display_name": "Python 3"
    },
    "language_info": {
      "name": "python"
    }
  },
  "cells": [
    {
      "cell_type": "markdown",
      "metadata": {
        "id": "view-in-github",
        "colab_type": "text"
      },
      "source": [
        "<a href=\"https://colab.research.google.com/github/Chenronron/20230211.python/blob/main/20230211_python.ipynb\" target=\"_parent\"><img src=\"https://colab.research.google.com/assets/colab-badge.svg\" alt=\"Open In Colab\"/></a>"
      ]
    },
    {
      "cell_type": "markdown",
      "source": [
        "#20230211筆記"
      ],
      "metadata": {
        "id": "rdnsa86POL_8"
      }
    },
    {
      "cell_type": "markdown",
      "source": [
        "#基本資料型態\n",
        "* int (整數)\n",
        "* float (浮點數)\n",
        "* fool (布林變數)\n",
        "* str (字串)\n",
        "\n",
        "使用 `type(變數)` 可以檢查變數裡面的資料型態。"
      ],
      "metadata": {
        "id": "nYSj9mi5UHrj"
      }
    },
    {
      "cell_type": "markdown",
      "source": [
        "## 整數除法(//)"
      ],
      "metadata": {
        "id": "-pNrx9AHVPxf"
      }
    },
    {
      "cell_type": "code",
      "source": [
        "x = 1"
      ],
      "metadata": {
        "id": "BGn-qnUJQwb-"
      },
      "execution_count": 27,
      "outputs": []
    },
    {
      "cell_type": "markdown",
      "source": [],
      "metadata": {
        "id": "brVXjNSIXEqn"
      }
    },
    {
      "cell_type": "code",
      "source": [
        "type(X)"
      ],
      "metadata": {
        "colab": {
          "base_uri": "https://localhost:8080/"
        },
        "id": "FpBnUBy5WJfp",
        "outputId": "0d5c6260-db0b-4563-8d42-2d5028fe4516"
      },
      "execution_count": null,
      "outputs": [
        {
          "output_type": "execute_result",
          "data": {
            "text/plain": [
              "float"
            ]
          },
          "metadata": {},
          "execution_count": 10
        }
      ]
    },
    {
      "cell_type": "code",
      "source": [
        "def hi(name):\n",
        "  print(\"hello\",name)"
      ],
      "metadata": {
        "id": "E1B_SVLZQzJQ"
      },
      "execution_count": null,
      "outputs": []
    },
    {
      "cell_type": "code",
      "source": [
        "y = hi(\"peter\")"
      ],
      "metadata": {
        "colab": {
          "base_uri": "https://localhost:8080/"
        },
        "id": "z1RY9GMFRTUh",
        "outputId": "cad2b74f-ca09-44ec-c406-98dfc9b2f787"
      },
      "execution_count": null,
      "outputs": [
        {
          "output_type": "stream",
          "name": "stdout",
          "text": [
            "hello peter\n"
          ]
        }
      ]
    },
    {
      "cell_type": "code",
      "source": [
        "y = 4/2"
      ],
      "metadata": {
        "id": "p4A9xcAoRfXN"
      },
      "execution_count": null,
      "outputs": []
    },
    {
      "cell_type": "code",
      "source": [
        "type(y)"
      ],
      "metadata": {
        "colab": {
          "base_uri": "https://localhost:8080/"
        },
        "id": "XHYx1Y9mWRaA",
        "outputId": "36a61de0-745b-49e8-cafb-b4ea5788de62"
      },
      "execution_count": null,
      "outputs": [
        {
          "output_type": "execute_result",
          "data": {
            "text/plain": [
              "float"
            ]
          },
          "metadata": {},
          "execution_count": 12
        }
      ]
    },
    {
      "cell_type": "code",
      "source": [
        "z = 4//2"
      ],
      "metadata": {
        "id": "yNyVcJzrWTZZ"
      },
      "execution_count": null,
      "outputs": []
    },
    {
      "cell_type": "code",
      "source": [
        "type(z)"
      ],
      "metadata": {
        "colab": {
          "base_uri": "https://localhost:8080/"
        },
        "id": "yTRt1OuhWkJU",
        "outputId": "04e73e29-3c47-4a28-97a9-938504c5cb1d"
      },
      "execution_count": null,
      "outputs": [
        {
          "output_type": "execute_result",
          "data": {
            "text/plain": [
              "int"
            ]
          },
          "metadata": {},
          "execution_count": 14
        }
      ]
    },
    {
      "cell_type": "markdown",
      "source": [
        "## 次方(**)"
      ],
      "metadata": {
        "id": "vkA-0TWWXesZ"
      }
    },
    {
      "cell_type": "code",
      "source": [
        "2**2"
      ],
      "metadata": {
        "id": "23jnS9NvXLA3",
        "colab": {
          "base_uri": "https://localhost:8080/"
        },
        "outputId": "dd595ea0-efcc-46b7-bd7c-0d6439c326e0"
      },
      "execution_count": 18,
      "outputs": [
        {
          "output_type": "execute_result",
          "data": {
            "text/plain": [
              "4"
            ]
          },
          "metadata": {},
          "execution_count": 18
        }
      ]
    },
    {
      "cell_type": "code",
      "source": [
        "2**4"
      ],
      "metadata": {
        "colab": {
          "base_uri": "https://localhost:8080/"
        },
        "id": "LOUwJo_NXU-5",
        "outputId": "d810a0a2-08fa-4b48-c412-6c0c71dad599"
      },
      "execution_count": 19,
      "outputs": [
        {
          "output_type": "execute_result",
          "data": {
            "text/plain": [
              "16"
            ]
          },
          "metadata": {},
          "execution_count": 19
        }
      ]
    },
    {
      "cell_type": "markdown",
      "source": [
        "## 什麼是bool?"
      ],
      "metadata": {
        "id": "8fSkTr_gXpa8"
      }
    },
    {
      "cell_type": "code",
      "source": [
        "3 > 2"
      ],
      "metadata": {
        "colab": {
          "base_uri": "https://localhost:8080/"
        },
        "id": "Fnr0Fr9BXuUC",
        "outputId": "1eab1726-6f98-45d8-c17e-2550cda3441e"
      },
      "execution_count": 20,
      "outputs": [
        {
          "output_type": "execute_result",
          "data": {
            "text/plain": [
              "True"
            ]
          },
          "metadata": {},
          "execution_count": 20
        }
      ]
    },
    {
      "cell_type": "code",
      "source": [
        "True + True"
      ],
      "metadata": {
        "colab": {
          "base_uri": "https://localhost:8080/"
        },
        "id": "28sUuRg8XwqV",
        "outputId": "8cd25ce6-9934-47d5-b2b2-244ee24381b5"
      },
      "execution_count": 22,
      "outputs": [
        {
          "output_type": "execute_result",
          "data": {
            "text/plain": [
              "2"
            ]
          },
          "metadata": {},
          "execution_count": 22
        }
      ]
    },
    {
      "cell_type": "code",
      "source": [
        "True + False"
      ],
      "metadata": {
        "colab": {
          "base_uri": "https://localhost:8080/"
        },
        "id": "K12BjpusX8CK",
        "outputId": "3b1f748d-9ea2-4d9c-8b61-214d36869b4d"
      },
      "execution_count": 23,
      "outputs": [
        {
          "output_type": "execute_result",
          "data": {
            "text/plain": [
              "1"
            ]
          },
          "metadata": {},
          "execution_count": 23
        }
      ]
    },
    {
      "cell_type": "code",
      "source": [
        "# 比較兩變數裡的值有沒有相等\n",
        "x == z"
      ],
      "metadata": {
        "colab": {
          "base_uri": "https://localhost:8080/"
        },
        "id": "ncB8S7_XYL8B",
        "outputId": "364fbdd1-6a5a-4390-cdec-5dccd5031e2f"
      },
      "execution_count": 28,
      "outputs": [
        {
          "output_type": "execute_result",
          "data": {
            "text/plain": [
              "False"
            ]
          },
          "metadata": {},
          "execution_count": 28
        }
      ]
    },
    {
      "cell_type": "markdown",
      "source": [
        "## 關於字串"
      ],
      "metadata": {
        "id": "K-FfKSwcZENA"
      }
    },
    {
      "cell_type": "code",
      "source": [
        "w = \"dog\""
      ],
      "metadata": {
        "id": "VROHVgVrZM68"
      },
      "execution_count": 29,
      "outputs": []
    },
    {
      "cell_type": "code",
      "source": [
        "type(w)"
      ],
      "metadata": {
        "colab": {
          "base_uri": "https://localhost:8080/"
        },
        "id": "BegEQdGYZPR9",
        "outputId": "c50c7b1e-dc55-44d2-8dfd-049a28208f87"
      },
      "execution_count": 30,
      "outputs": [
        {
          "output_type": "execute_result",
          "data": {
            "text/plain": [
              "str"
            ]
          },
          "metadata": {},
          "execution_count": 30
        }
      ]
    },
    {
      "cell_type": "code",
      "source": [
        "u = \"it's my dog\""
      ],
      "metadata": {
        "id": "LGLUa9HTZRDG"
      },
      "execution_count": 34,
      "outputs": []
    },
    {
      "cell_type": "code",
      "source": [
        "# 使用跳脫字元(escape character)\n",
        "v = 'it\\'s my dog'"
      ],
      "metadata": {
        "id": "9q9bLuJPZ8cn"
      },
      "execution_count": 36,
      "outputs": []
    },
    {
      "cell_type": "code",
      "source": [],
      "metadata": {
        "id": "IBDQ8MSGaBNm"
      },
      "execution_count": null,
      "outputs": []
    }
  ]
}