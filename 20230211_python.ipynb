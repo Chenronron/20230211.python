{
  "nbformat": 4,
  "nbformat_minor": 0,
  "metadata": {
    "colab": {
      "provenance": [],
      "toc_visible": true,
      "authorship_tag": "ABX9TyMJWv2xmLl9i3VFjjq+J3/h",
      "include_colab_link": true
    },
    "kernelspec": {
      "name": "python3",
      "display_name": "Python 3"
    },
    "language_info": {
      "name": "python"
    }
  },
  "cells": [
    {
      "cell_type": "markdown",
      "metadata": {
        "id": "view-in-github",
        "colab_type": "text"
      },
      "source": [
        "<a href=\"https://colab.research.google.com/github/Chenronron/20230211.python/blob/main/20230211_python.ipynb\" target=\"_parent\"><img src=\"https://colab.research.google.com/assets/colab-badge.svg\" alt=\"Open In Colab\"/></a>"
      ]
    },
    {
      "cell_type": "markdown",
      "source": [
        "#20230211筆記"
      ],
      "metadata": {
        "id": "rdnsa86POL_8"
      }
    },
    {
      "cell_type": "markdown",
      "source": [
        "#基本資料型態\n",
        "* int (整數)\n",
        "* float (浮點數)\n",
        "* fool (布林變數)\n",
        "* str (字串)\n",
        "\n",
        "使用 `type(變數)` 可以檢查變數裡面的資料型態。"
      ],
      "metadata": {
        "id": "nYSj9mi5UHrj"
      }
    },
    {
      "cell_type": "markdown",
      "source": [
        "## 整數除法(//)"
      ],
      "metadata": {
        "id": "-pNrx9AHVPxf"
      }
    },
    {
      "cell_type": "code",
      "source": [
        "x = 1"
      ],
      "metadata": {
        "id": "BGn-qnUJQwb-"
      },
      "execution_count": 27,
      "outputs": []
    },
    {
      "cell_type": "markdown",
      "source": [],
      "metadata": {
        "id": "brVXjNSIXEqn"
      }
    },
    {
      "cell_type": "code",
      "source": [
        "type(X)"
      ],
      "metadata": {
        "colab": {
          "base_uri": "https://localhost:8080/"
        },
        "id": "FpBnUBy5WJfp",
        "outputId": "0d5c6260-db0b-4563-8d42-2d5028fe4516"
      },
      "execution_count": null,
      "outputs": [
        {
          "output_type": "execute_result",
          "data": {
            "text/plain": [
              "float"
            ]
          },
          "metadata": {},
          "execution_count": 10
        }
      ]
    },
    {
      "cell_type": "code",
      "source": [
        "def hi(name):\n",
        "  print(\"hello\",name)"
      ],
      "metadata": {
        "id": "E1B_SVLZQzJQ"
      },
      "execution_count": null,
      "outputs": []
    },
    {
      "cell_type": "code",
      "source": [
        "y = hi(\"peter\")"
      ],
      "metadata": {
        "colab": {
          "base_uri": "https://localhost:8080/"
        },
        "id": "z1RY9GMFRTUh",
        "outputId": "cad2b74f-ca09-44ec-c406-98dfc9b2f787"
      },
      "execution_count": null,
      "outputs": [
        {
          "output_type": "stream",
          "name": "stdout",
          "text": [
            "hello peter\n"
          ]
        }
      ]
    },
    {
      "cell_type": "code",
      "source": [
        "y = 4/2"
      ],
      "metadata": {
        "id": "p4A9xcAoRfXN"
      },
      "execution_count": null,
      "outputs": []
    },
    {
      "cell_type": "code",
      "source": [
        "type(y)"
      ],
      "metadata": {
        "colab": {
          "base_uri": "https://localhost:8080/"
        },
        "id": "XHYx1Y9mWRaA",
        "outputId": "36a61de0-745b-49e8-cafb-b4ea5788de62"
      },
      "execution_count": null,
      "outputs": [
        {
          "output_type": "execute_result",
          "data": {
            "text/plain": [
              "float"
            ]
          },
          "metadata": {},
          "execution_count": 12
        }
      ]
    },
    {
      "cell_type": "code",
      "source": [
        "z = 4//2"
      ],
      "metadata": {
        "id": "yNyVcJzrWTZZ"
      },
      "execution_count": null,
      "outputs": []
    },
    {
      "cell_type": "code",
      "source": [
        "type(z)"
      ],
      "metadata": {
        "colab": {
          "base_uri": "https://localhost:8080/"
        },
        "id": "yTRt1OuhWkJU",
        "outputId": "04e73e29-3c47-4a28-97a9-938504c5cb1d"
      },
      "execution_count": null,
      "outputs": [
        {
          "output_type": "execute_result",
          "data": {
            "text/plain": [
              "int"
            ]
          },
          "metadata": {},
          "execution_count": 14
        }
      ]
    },
    {
      "cell_type": "markdown",
      "source": [
        "## 次方(**)"
      ],
      "metadata": {
        "id": "vkA-0TWWXesZ"
      }
    },
    {
      "cell_type": "code",
      "source": [
        "2**2"
      ],
      "metadata": {
        "id": "23jnS9NvXLA3",
        "colab": {
          "base_uri": "https://localhost:8080/"
        },
        "outputId": "dd595ea0-efcc-46b7-bd7c-0d6439c326e0"
      },
      "execution_count": 18,
      "outputs": [
        {
          "output_type": "execute_result",
          "data": {
            "text/plain": [
              "4"
            ]
          },
          "metadata": {},
          "execution_count": 18
        }
      ]
    },
    {
      "cell_type": "code",
      "source": [
        "2**4"
      ],
      "metadata": {
        "colab": {
          "base_uri": "https://localhost:8080/"
        },
        "id": "LOUwJo_NXU-5",
        "outputId": "d810a0a2-08fa-4b48-c412-6c0c71dad599"
      },
      "execution_count": 19,
      "outputs": [
        {
          "output_type": "execute_result",
          "data": {
            "text/plain": [
              "16"
            ]
          },
          "metadata": {},
          "execution_count": 19
        }
      ]
    },
    {
      "cell_type": "markdown",
      "source": [
        "## 什麼是bool?"
      ],
      "metadata": {
        "id": "8fSkTr_gXpa8"
      }
    },
    {
      "cell_type": "code",
      "source": [
        "3 > 2"
      ],
      "metadata": {
        "colab": {
          "base_uri": "https://localhost:8080/"
        },
        "id": "Fnr0Fr9BXuUC",
        "outputId": "1eab1726-6f98-45d8-c17e-2550cda3441e"
      },
      "execution_count": 20,
      "outputs": [
        {
          "output_type": "execute_result",
          "data": {
            "text/plain": [
              "True"
            ]
          },
          "metadata": {},
          "execution_count": 20
        }
      ]
    },
    {
      "cell_type": "code",
      "source": [
        "True + True"
      ],
      "metadata": {
        "colab": {
          "base_uri": "https://localhost:8080/"
        },
        "id": "28sUuRg8XwqV",
        "outputId": "8cd25ce6-9934-47d5-b2b2-244ee24381b5"
      },
      "execution_count": 22,
      "outputs": [
        {
          "output_type": "execute_result",
          "data": {
            "text/plain": [
              "2"
            ]
          },
          "metadata": {},
          "execution_count": 22
        }
      ]
    },
    {
      "cell_type": "code",
      "source": [
        "True + False"
      ],
      "metadata": {
        "colab": {
          "base_uri": "https://localhost:8080/"
        },
        "id": "K12BjpusX8CK",
        "outputId": "3b1f748d-9ea2-4d9c-8b61-214d36869b4d"
      },
      "execution_count": 23,
      "outputs": [
        {
          "output_type": "execute_result",
          "data": {
            "text/plain": [
              "1"
            ]
          },
          "metadata": {},
          "execution_count": 23
        }
      ]
    },
    {
      "cell_type": "code",
      "source": [
        "# 比較兩變數裡的值有沒有相等\n",
        "x == z"
      ],
      "metadata": {
        "colab": {
          "base_uri": "https://localhost:8080/"
        },
        "id": "ncB8S7_XYL8B",
        "outputId": "364fbdd1-6a5a-4390-cdec-5dccd5031e2f"
      },
      "execution_count": 28,
      "outputs": [
        {
          "output_type": "execute_result",
          "data": {
            "text/plain": [
              "False"
            ]
          },
          "metadata": {},
          "execution_count": 28
        }
      ]
    },
    {
      "cell_type": "markdown",
      "source": [
        "## 關於字串"
      ],
      "metadata": {
        "id": "K-FfKSwcZENA"
      }
    },
    {
      "cell_type": "code",
      "source": [
        "w = \"dog\""
      ],
      "metadata": {
        "id": "VROHVgVrZM68"
      },
      "execution_count": 29,
      "outputs": []
    },
    {
      "cell_type": "code",
      "source": [
        "type(w)"
      ],
      "metadata": {
        "colab": {
          "base_uri": "https://localhost:8080/"
        },
        "id": "BegEQdGYZPR9",
        "outputId": "c50c7b1e-dc55-44d2-8dfd-049a28208f87"
      },
      "execution_count": 30,
      "outputs": [
        {
          "output_type": "execute_result",
          "data": {
            "text/plain": [
              "str"
            ]
          },
          "metadata": {},
          "execution_count": 30
        }
      ]
    },
    {
      "cell_type": "code",
      "source": [
        "u = \"it's my dog\""
      ],
      "metadata": {
        "id": "LGLUa9HTZRDG"
      },
      "execution_count": 34,
      "outputs": []
    },
    {
      "cell_type": "code",
      "source": [
        "# 使用跳脫字元(escape character)\n",
        "v = 'it\\'s my dog'"
      ],
      "metadata": {
        "id": "9q9bLuJPZ8cn"
      },
      "execution_count": 36,
      "outputs": []
    },
    {
      "cell_type": "markdown",
      "source": [
        "## 字串的加法(+)跟乘法(*)"
      ],
      "metadata": {
        "id": "JnGT0NmLfUyD"
      }
    },
    {
      "cell_type": "code",
      "source": [
        "\"abc\" + \"3\""
      ],
      "metadata": {
        "colab": {
          "base_uri": "https://localhost:8080/",
          "height": 36
        },
        "id": "ARlSDIXbfb1n",
        "outputId": "e1dfe0f9-9fd3-4f64-ae49-764a7bb4ddae"
      },
      "execution_count": 39,
      "outputs": [
        {
          "output_type": "execute_result",
          "data": {
            "text/plain": [
              "'abc3'"
            ],
            "application/vnd.google.colaboratory.intrinsic+json": {
              "type": "string"
            }
          },
          "metadata": {},
          "execution_count": 39
        }
      ]
    },
    {
      "cell_type": "code",
      "source": [
        "\"abc\" * 3"
      ],
      "metadata": {
        "colab": {
          "base_uri": "https://localhost:8080/",
          "height": 36
        },
        "id": "M6_ewbdsfj1y",
        "outputId": "b12f4340-d3f9-49bf-8916-5e4a36118bdb"
      },
      "execution_count": 40,
      "outputs": [
        {
          "output_type": "execute_result",
          "data": {
            "text/plain": [
              "'abcabcabc'"
            ],
            "application/vnd.google.colaboratory.intrinsic+json": {
              "type": "string"
            }
          },
          "metadata": {},
          "execution_count": 40
        }
      ]
    },
    {
      "cell_type": "code",
      "source": [
        "\"abc\" * -1"
      ],
      "metadata": {
        "colab": {
          "base_uri": "https://localhost:8080/",
          "height": 36
        },
        "id": "ZJXbwSLKjw1b",
        "outputId": "4b262b94-526b-4eec-8cb5-db047ac37402"
      },
      "execution_count": 64,
      "outputs": [
        {
          "output_type": "execute_result",
          "data": {
            "text/plain": [
              "''"
            ],
            "application/vnd.google.colaboratory.intrinsic+json": {
              "type": "string"
            }
          },
          "metadata": {},
          "execution_count": 64
        }
      ]
    },
    {
      "cell_type": "code",
      "source": [],
      "metadata": {
        "id": "ng8V9Sk2fqGZ"
      },
      "execution_count": null,
      "outputs": []
    },
    {
      "cell_type": "markdown",
      "source": [
        "## 練習:(使用字串畫出底下的金字塔)\n",
        "```\n",
        "    *\n",
        "   ***\n",
        "  *****\n",
        " *******\n",
        "*********\n",
        "```"
      ],
      "metadata": {
        "id": "1564VFR8fs5Y"
      }
    },
    {
      "cell_type": "code",
      "source": [
        "for i in range(5):\n",
        "  print(i)"
      ],
      "metadata": {
        "colab": {
          "base_uri": "https://localhost:8080/"
        },
        "id": "me1_y_DNgRUC",
        "outputId": "36b78934-f13c-42fb-9deb-629543f13de7"
      },
      "execution_count": 44,
      "outputs": [
        {
          "output_type": "stream",
          "name": "stdout",
          "text": [
            "0\n",
            "1\n",
            "2\n",
            "3\n",
            "4\n"
          ]
        }
      ]
    },
    {
      "cell_type": "code",
      "source": [
        "for i in range(3):\n",
        "  print(\"程式區塊開始\")\n",
        "  print(i)\n",
        "  print(\"程式區塊結束\")"
      ],
      "metadata": {
        "colab": {
          "base_uri": "https://localhost:8080/"
        },
        "id": "H57r4Kd5ggQV",
        "outputId": "3b6193b2-8cc8-4fbd-fd11-453b0f4c38db"
      },
      "execution_count": 45,
      "outputs": [
        {
          "output_type": "stream",
          "name": "stdout",
          "text": [
            "程式區塊開始\n",
            "0\n",
            "程式區塊結束\n",
            "程式區塊開始\n",
            "1\n",
            "程式區塊結束\n",
            "程式區塊開始\n",
            "2\n",
            "程式區塊結束\n"
          ]
        }
      ]
    },
    {
      "cell_type": "code",
      "source": [
        "for i in range(3):\n",
        "  print(\"程式區塊開始\")\n",
        "  print(i)\n",
        "print(\"程式區塊結束\")"
      ],
      "metadata": {
        "colab": {
          "base_uri": "https://localhost:8080/"
        },
        "id": "mPLVczydg3xz",
        "outputId": "d888bfa8-3f8e-47c6-ff6f-d78c6709c6a8"
      },
      "execution_count": 46,
      "outputs": [
        {
          "output_type": "stream",
          "name": "stdout",
          "text": [
            "程式區塊開始\n",
            "0\n",
            "程式區塊開始\n",
            "1\n",
            "程式區塊開始\n",
            "2\n",
            "程式區塊結束\n"
          ]
        }
      ]
    },
    {
      "cell_type": "code",
      "source": [
        "for i in range(5):\n",
        "  print((2*i+1))"
      ],
      "metadata": {
        "colab": {
          "base_uri": "https://localhost:8080/"
        },
        "id": "hhoEkkVIg6ae",
        "outputId": "4a9c5fd5-bd45-4eb1-a6f5-9fd22b978d0a"
      },
      "execution_count": 52,
      "outputs": [
        {
          "output_type": "stream",
          "name": "stdout",
          "text": [
            "1\n",
            "3\n",
            "5\n",
            "7\n",
            "9\n"
          ]
        }
      ]
    },
    {
      "cell_type": "code",
      "source": [
        "for i in range(5):\n",
        "  print((2*i+1)*\"*\")"
      ],
      "metadata": {
        "colab": {
          "base_uri": "https://localhost:8080/"
        },
        "id": "xhPWEncLhY31",
        "outputId": "7bda2722-15af-4b5b-8ebf-aa8497910754"
      },
      "execution_count": 55,
      "outputs": [
        {
          "output_type": "stream",
          "name": "stdout",
          "text": [
            "*\n",
            "***\n",
            "*****\n",
            "*******\n",
            "*********\n"
          ]
        }
      ]
    },
    {
      "cell_type": "code",
      "source": [
        "for i in range(5):\n",
        "  print((5-i)*' '+(2*i+1)*\"*\")"
      ],
      "metadata": {
        "colab": {
          "base_uri": "https://localhost:8080/"
        },
        "id": "PxX8xID8iGEx",
        "outputId": "e650acd6-9929-4678-9698-4d19c28c26b0"
      },
      "execution_count": 65,
      "outputs": [
        {
          "output_type": "stream",
          "name": "stdout",
          "text": [
            "     *\n",
            "    ***\n",
            "   *****\n",
            "  *******\n",
            " *********\n"
          ]
        }
      ]
    },
    {
      "cell_type": "markdown",
      "source": [
        "## input()及print()\n",
        "\n",
        "input():用來讀取輸入\n",
        "print():用來打印輸出"
      ],
      "metadata": {
        "id": "XErI0vErk1Z6"
      }
    },
    {
      "cell_type": "code",
      "source": [
        "x = input(\"請輸入一個數字:\")"
      ],
      "metadata": {
        "colab": {
          "base_uri": "https://localhost:8080/"
        },
        "id": "J5Yck_55k8O3",
        "outputId": "511c9650-ff41-4449-c7d9-a27d36f7a8f9"
      },
      "execution_count": 68,
      "outputs": [
        {
          "name": "stdout",
          "output_type": "stream",
          "text": [
            "請輸入一個數字:100\n"
          ]
        }
      ]
    },
    {
      "cell_type": "code",
      "source": [
        "type(x)"
      ],
      "metadata": {
        "colab": {
          "base_uri": "https://localhost:8080/"
        },
        "id": "2-CWAxuZlGPY",
        "outputId": "41fda533-af7d-453d-b06f-3380569897a0"
      },
      "execution_count": 69,
      "outputs": [
        {
          "output_type": "execute_result",
          "data": {
            "text/plain": [
              "str"
            ]
          },
          "metadata": {},
          "execution_count": 69
        }
      ]
    },
    {
      "cell_type": "code",
      "source": [
        "x = print(x)"
      ],
      "metadata": {
        "colab": {
          "base_uri": "https://localhost:8080/"
        },
        "id": "xsxm4M9QlPXB",
        "outputId": "5875fc23-d0fa-46c3-f879-8fff81257fa6"
      },
      "execution_count": 70,
      "outputs": [
        {
          "output_type": "stream",
          "name": "stdout",
          "text": [
            "100\n"
          ]
        }
      ]
    },
    {
      "cell_type": "code",
      "source": [
        "x = 1\n",
        "y = 2\n",
        "z = 3\n",
        "print(x, y, z)\n",
        "#都空了一格"
      ],
      "metadata": {
        "colab": {
          "base_uri": "https://localhost:8080/"
        },
        "id": "c8fHoMstlamd",
        "outputId": "ee6ffc73-2952-4d53-87f1-3962efde8087"
      },
      "execution_count": 72,
      "outputs": [
        {
          "output_type": "stream",
          "name": "stdout",
          "text": [
            "1 2 3\n"
          ]
        }
      ]
    },
    {
      "cell_type": "code",
      "source": [
        "x = 1\n",
        "y = 2\n",
        "z = 3\n",
        "print(x, y, z, sep=\"\")"
      ],
      "metadata": {
        "colab": {
          "base_uri": "https://localhost:8080/"
        },
        "id": "5IqhFqVnl4VE",
        "outputId": "5e95db4c-89db-4826-b813-fa2da6ef90e2"
      },
      "execution_count": 75,
      "outputs": [
        {
          "output_type": "stream",
          "name": "stdout",
          "text": [
            "123\n"
          ]
        }
      ]
    },
    {
      "cell_type": "markdown",
      "source": [
        "# 基礎容器型別\n",
        "\n",
        "* list (串列)\n",
        "* tuple (元組)\n",
        "* dict (字典)\n",
        "* set (集合)"
      ],
      "metadata": {
        "id": "4v6kjOYFnnfA"
      }
    },
    {
      "cell_type": "markdown",
      "source": [
        "## list (字串)"
      ],
      "metadata": {
        "id": "E3nTdNXo4vSl"
      }
    },
    {
      "cell_type": "code",
      "source": [
        "x = ['a', 'b', 'c', 'd', 'e']"
      ],
      "metadata": {
        "id": "QZdyhz_hmEML"
      },
      "execution_count": 76,
      "outputs": []
    },
    {
      "cell_type": "code",
      "source": [
        "y = list('abcde')"
      ],
      "metadata": {
        "id": "ajJf2SJL5CJo"
      },
      "execution_count": 77,
      "outputs": []
    },
    {
      "cell_type": "code",
      "source": [
        "y"
      ],
      "metadata": {
        "colab": {
          "base_uri": "https://localhost:8080/"
        },
        "id": "CUdoPSp15J6J",
        "outputId": "5882e1f0-66e5-44ec-ce69-f3c3b8499de9"
      },
      "execution_count": 78,
      "outputs": [
        {
          "output_type": "execute_result",
          "data": {
            "text/plain": [
              "['a', 'b', 'c', 'd', 'e']"
            ]
          },
          "metadata": {},
          "execution_count": 78
        }
      ]
    },
    {
      "cell_type": "code",
      "source": [
        "x[0]"
      ],
      "metadata": {
        "colab": {
          "base_uri": "https://localhost:8080/",
          "height": 36
        },
        "id": "jPp7lRhW5LQ1",
        "outputId": "b01db081-d8d4-4341-e5d5-1d8cbab47505"
      },
      "execution_count": 79,
      "outputs": [
        {
          "output_type": "execute_result",
          "data": {
            "text/plain": [
              "'a'"
            ],
            "application/vnd.google.colaboratory.intrinsic+json": {
              "type": "string"
            }
          },
          "metadata": {},
          "execution_count": 79
        }
      ]
    },
    {
      "cell_type": "code",
      "source": [
        "# 回傳list裡面有幾個items\n",
        "len(x)"
      ],
      "metadata": {
        "colab": {
          "base_uri": "https://localhost:8080/"
        },
        "id": "nL-lFd8H5NWX",
        "outputId": "c9653a76-439d-4a27-8819-6bfee3772e22"
      },
      "execution_count": 80,
      "outputs": [
        {
          "output_type": "execute_result",
          "data": {
            "text/plain": [
              "5"
            ]
          },
          "metadata": {},
          "execution_count": 80
        }
      ]
    },
    {
      "cell_type": "markdown",
      "source": [
        "### 練習：從網址中切分出檔案名稱"
      ],
      "metadata": {
        "id": "Tj8Rw2hZ7IOF"
      }
    },
    {
      "cell_type": "code",
      "source": [
        "url = \"https://cc.tvbs.com.tw/img/upload/2022/04/23/20220423120702-606bb9e8.jpg\""
      ],
      "metadata": {
        "id": "ISHV2Nf85fMu"
      },
      "execution_count": 81,
      "outputs": []
    },
    {
      "cell_type": "code",
      "source": [
        "type(url)"
      ],
      "metadata": {
        "colab": {
          "base_uri": "https://localhost:8080/"
        },
        "id": "Yc7hBcPS6GKl",
        "outputId": "55e68492-4a8f-4375-b6cb-f4ccea00024d"
      },
      "execution_count": 82,
      "outputs": [
        {
          "output_type": "execute_result",
          "data": {
            "text/plain": [
              "str"
            ]
          },
          "metadata": {},
          "execution_count": 82
        }
      ]
    },
    {
      "cell_type": "code",
      "source": [
        "# 方法(method)後面加上問號，執行後會顯示使用說明\n",
        "url.split?"
      ],
      "metadata": {
        "id": "xh4fuKq86JRa"
      },
      "execution_count": 87,
      "outputs": []
    },
    {
      "cell_type": "code",
      "source": [
        "# 使用'/'切割字串\n",
        "url.split('/')"
      ],
      "metadata": {
        "colab": {
          "base_uri": "https://localhost:8080/"
        },
        "id": "UX0r6lf36ajF",
        "outputId": "2073fcab-a5a8-470f-ce66-ecfe7e650136"
      },
      "execution_count": 84,
      "outputs": [
        {
          "output_type": "execute_result",
          "data": {
            "text/plain": [
              "['https:',\n",
              " '',\n",
              " 'cc.tvbs.com.tw',\n",
              " 'img',\n",
              " 'upload',\n",
              " '2022',\n",
              " '04',\n",
              " '23',\n",
              " '20220423120702-606bb9e8.jpg']"
            ]
          },
          "metadata": {},
          "execution_count": 84
        }
      ]
    },
    {
      "cell_type": "code",
      "source": [
        "url.split('/')[8]"
      ],
      "metadata": {
        "colab": {
          "base_uri": "https://localhost:8080/",
          "height": 36
        },
        "id": "w-rOkcdR6ur3",
        "outputId": "a129d28f-2a70-4ea6-db9f-5cd4803351b4"
      },
      "execution_count": 85,
      "outputs": [
        {
          "output_type": "execute_result",
          "data": {
            "text/plain": [
              "'20220423120702-606bb9e8.jpg'"
            ],
            "application/vnd.google.colaboratory.intrinsic+json": {
              "type": "string"
            }
          },
          "metadata": {},
          "execution_count": 85
        }
      ]
    },
    {
      "cell_type": "code",
      "source": [
        "# 取得list中倒數第一個item\n",
        "url.split('/')[-1]"
      ],
      "metadata": {
        "colab": {
          "base_uri": "https://localhost:8080/",
          "height": 36
        },
        "id": "OBn-EMjg7ATx",
        "outputId": "334ca341-123d-4f9c-8df1-669d738dd87c"
      },
      "execution_count": 88,
      "outputs": [
        {
          "output_type": "execute_result",
          "data": {
            "text/plain": [
              "'20220423120702-606bb9e8.jpg'"
            ],
            "application/vnd.google.colaboratory.intrinsic+json": {
              "type": "string"
            }
          },
          "metadata": {},
          "execution_count": 88
        }
      ]
    },
    {
      "cell_type": "markdown",
      "source": [
        "###如何取得list中前幾個或後幾個items?"
      ],
      "metadata": {
        "id": "FXmN09nG74zH"
      }
    },
    {
      "cell_type": "code",
      "source": [
        "#顯示前3個\n",
        "x[:3]"
      ],
      "metadata": {
        "colab": {
          "base_uri": "https://localhost:8080/"
        },
        "id": "aLp5dOfy7WOD",
        "outputId": "7c03ecd5-1d9e-4506-a23f-a9b2ca08e7b5"
      },
      "execution_count": 89,
      "outputs": [
        {
          "output_type": "execute_result",
          "data": {
            "text/plain": [
              "['a', 'b', 'c']"
            ]
          },
          "metadata": {},
          "execution_count": 89
        }
      ]
    },
    {
      "cell_type": "code",
      "source": [
        "#顯示後3個\n",
        "x[-3:]"
      ],
      "metadata": {
        "colab": {
          "base_uri": "https://localhost:8080/"
        },
        "id": "yjRjRsJb8Djh",
        "outputId": "5aed315c-28d4-4ecd-a8d4-efef437de56b"
      },
      "execution_count": 90,
      "outputs": [
        {
          "output_type": "execute_result",
          "data": {
            "text/plain": [
              "['c', 'd', 'e']"
            ]
          },
          "metadata": {},
          "execution_count": 90
        }
      ]
    },
    {
      "cell_type": "markdown",
      "source": [
        "## dict (字典)"
      ],
      "metadata": {
        "id": "xHwFjMy18lUh"
      }
    },
    {
      "cell_type": "code",
      "source": [
        "d = {}"
      ],
      "metadata": {
        "id": "LTyNYppN8IFb"
      },
      "execution_count": 91,
      "outputs": []
    },
    {
      "cell_type": "code",
      "source": [
        "type(d)"
      ],
      "metadata": {
        "colab": {
          "base_uri": "https://localhost:8080/"
        },
        "id": "9lOO8sTh8vsO",
        "outputId": "4703352c-ae48-4fbf-f454-5edbe2641a1b"
      },
      "execution_count": 92,
      "outputs": [
        {
          "output_type": "execute_result",
          "data": {
            "text/plain": [
              "dict"
            ]
          },
          "metadata": {},
          "execution_count": 92
        }
      ]
    },
    {
      "cell_type": "code",
      "source": [
        "d['cat'] = '貓咪'"
      ],
      "metadata": {
        "id": "F1VPA6P58xPr"
      },
      "execution_count": 93,
      "outputs": []
    },
    {
      "cell_type": "code",
      "source": [
        "d"
      ],
      "metadata": {
        "colab": {
          "base_uri": "https://localhost:8080/"
        },
        "id": "mNKL-Trm9DjI",
        "outputId": "ddcef335-ca4f-4c5f-f1e1-92bdc99711e7"
      },
      "execution_count": 94,
      "outputs": [
        {
          "output_type": "execute_result",
          "data": {
            "text/plain": [
              "{'cat': '貓咪'}"
            ]
          },
          "metadata": {},
          "execution_count": 94
        }
      ]
    },
    {
      "cell_type": "code",
      "source": [
        "# 加入第二筆資料\n",
        "d['dog'] = '狗狗'"
      ],
      "metadata": {
        "id": "edfRY8q-9E3H"
      },
      "execution_count": 100,
      "outputs": []
    },
    {
      "cell_type": "code",
      "source": [
        "d"
      ],
      "metadata": {
        "colab": {
          "base_uri": "https://localhost:8080/"
        },
        "id": "L1iCUXft9X1P",
        "outputId": "961368fd-a453-49c8-ad8a-e71fd1010ca9"
      },
      "execution_count": 98,
      "outputs": [
        {
          "output_type": "execute_result",
          "data": {
            "text/plain": [
              "{'cat': '貓咪', 'dog': '狗狗'}"
            ]
          },
          "metadata": {},
          "execution_count": 98
        }
      ]
    },
    {
      "cell_type": "code",
      "source": [
        "# 查詢資料\n",
        "d['cat']"
      ],
      "metadata": {
        "colab": {
          "base_uri": "https://localhost:8080/",
          "height": 36
        },
        "id": "dAW0ZoSv9Yw0",
        "outputId": "00d34129-68e7-4592-f0e0-96bec748f89c"
      },
      "execution_count": 102,
      "outputs": [
        {
          "output_type": "execute_result",
          "data": {
            "text/plain": [
              "'貓咪'"
            ],
            "application/vnd.google.colaboratory.intrinsic+json": {
              "type": "string"
            }
          },
          "metadata": {},
          "execution_count": 102
        }
      ]
    },
    {
      "cell_type": "markdown",
      "source": [
        "## for迴圈與list及dict的合用"
      ],
      "metadata": {
        "id": "HiX-d48N-xZo"
      }
    },
    {
      "cell_type": "code",
      "source": [
        "for i in range(5):\n",
        "  print(i)"
      ],
      "metadata": {
        "colab": {
          "base_uri": "https://localhost:8080/"
        },
        "id": "sfprZdiG-4gI",
        "outputId": "c1a31d87-e28d-4085-ec0b-beb5f0c0b12e"
      },
      "execution_count": 103,
      "outputs": [
        {
          "output_type": "stream",
          "name": "stdout",
          "text": [
            "0\n",
            "1\n",
            "2\n",
            "3\n",
            "4\n"
          ]
        }
      ]
    },
    {
      "cell_type": "code",
      "source": [
        "x"
      ],
      "metadata": {
        "colab": {
          "base_uri": "https://localhost:8080/"
        },
        "id": "psDkSJgr_CJB",
        "outputId": "74e72240-bfe8-486d-ad41-3ce772204abb"
      },
      "execution_count": 104,
      "outputs": [
        {
          "output_type": "execute_result",
          "data": {
            "text/plain": [
              "['a', 'b', 'c', 'd', 'e']"
            ]
          },
          "metadata": {},
          "execution_count": 104
        }
      ]
    },
    {
      "cell_type": "code",
      "source": [
        "for i in x:\n",
        "  print(i)"
      ],
      "metadata": {
        "colab": {
          "base_uri": "https://localhost:8080/"
        },
        "id": "13xwQPG2_L7p",
        "outputId": "f15cf956-e27d-40fe-a25f-b75c9493a7e6"
      },
      "execution_count": 108,
      "outputs": [
        {
          "output_type": "stream",
          "name": "stdout",
          "text": [
            "a\n",
            "b\n",
            "c\n",
            "d\n",
            "e\n"
          ]
        }
      ]
    },
    {
      "cell_type": "code",
      "source": [
        "for i in d:\n",
        "  print(i)"
      ],
      "metadata": {
        "colab": {
          "base_uri": "https://localhost:8080/"
        },
        "id": "7At8GyBK_Pih",
        "outputId": "7cb52b4e-4007-4f78-de95-fe61b0109756"
      },
      "execution_count": 117,
      "outputs": [
        {
          "output_type": "stream",
          "name": "stdout",
          "text": [
            "cat\n",
            "dog\n"
          ]
        }
      ]
    },
    {
      "cell_type": "code",
      "source": [
        "for i in d:\n",
        "  print(d[i])"
      ],
      "metadata": {
        "colab": {
          "base_uri": "https://localhost:8080/"
        },
        "id": "OYbii-Yi_lWk",
        "outputId": "38f93fbf-37b0-430a-f444-cc6b884dc920"
      },
      "execution_count": 118,
      "outputs": [
        {
          "output_type": "stream",
          "name": "stdout",
          "text": [
            "貓咪\n",
            "狗狗\n"
          ]
        }
      ]
    },
    {
      "cell_type": "code",
      "source": [
        "for i in d:\n",
        "  print(i, \":\", d[i])"
      ],
      "metadata": {
        "colab": {
          "base_uri": "https://localhost:8080/"
        },
        "id": "SuzAvHWVAWfr",
        "outputId": "3e4e4f52-d15e-442d-9c6b-0c453b7e1fa8"
      },
      "execution_count": 120,
      "outputs": [
        {
          "output_type": "stream",
          "name": "stdout",
          "text": [
            "cat : 貓咪\n",
            "dog : 狗狗\n"
          ]
        }
      ]
    },
    {
      "cell_type": "markdown",
      "source": [
        "# 使用requests抓取網路資料"
      ],
      "metadata": {
        "id": "36EgebyOMe-6"
      }
    },
    {
      "cell_type": "markdown",
      "source": [
        "## 抓取網頁原始碼"
      ],
      "metadata": {
        "id": "66TAKr1ANMaQ"
      }
    },
    {
      "cell_type": "code",
      "source": [
        "url = \"https://victorgau.github.io/khpy_web_intro/html_only.html\""
      ],
      "metadata": {
        "id": "wJlI-YG9M2ma"
      },
      "execution_count": 121,
      "outputs": []
    },
    {
      "cell_type": "code",
      "source": [
        "# 載入requests,用來抓取網路上資料\n",
        "import requests"
      ],
      "metadata": {
        "id": "D67Z7DPVNZIO"
      },
      "execution_count": 122,
      "outputs": []
    },
    {
      "cell_type": "code",
      "source": [
        "# 取得特定網址的網路原始碼，並將回傳的內容(包含headers)放入變數r\n",
        "r = requests.get(url)"
      ],
      "metadata": {
        "id": "yTEaJ_OANfbo"
      },
      "execution_count": 123,
      "outputs": []
    },
    {
      "cell_type": "code",
      "source": [
        "# 印出回傳值中的.text的部分(即網頁原始碼)\n",
        "print(r.text)"
      ],
      "metadata": {
        "colab": {
          "base_uri": "https://localhost:8080/"
        },
        "id": "1gg6N3KsNkWg",
        "outputId": "de18e1ff-0f3e-4057-b9b1-165daa78c13e"
      },
      "execution_count": 125,
      "outputs": [
        {
          "output_type": "stream",
          "name": "stdout",
          "text": [
            "<!DOCTYPE html>\n",
            "<html>\n",
            "<head>\n",
            "    <title>HTML範例</title>\n",
            "</head>\n",
            "<body>\n",
            "\n",
            "<h1>哈囉！HTML！</h1>\n",
            "\n",
            "<img src=\"ninja.jpg\" />\n",
            "\n",
            "</body>\n",
            "</html>\n"
          ]
        }
      ]
    },
    {
      "cell_type": "markdown",
      "source": [
        "## 使用requests呼叫web API\n",
        "\n",
        "萌典API:\n",
        "https://github.com/g0v/moedict-webkit\n",
        "\n",
        "API:Application Programming Interface\n",
        "\n",
        "API是一個提供給應用程式(Application)使用程式(Program)來存取特定服務的介面(Interface)."
      ],
      "metadata": {
        "id": "aNlITS8gOuNC"
      }
    },
    {
      "cell_type": "markdown",
      "source": [
        "#### 方法一"
      ],
      "metadata": {
        "id": "zA7SHYcyQyV2"
      }
    },
    {
      "cell_type": "markdown",
      "source": [
        "##### 抓取資料"
      ],
      "metadata": {
        "id": "Y7QyWqJRUosK"
      }
    },
    {
      "cell_type": "code",
      "source": [
        "import json"
      ],
      "metadata": {
        "id": "8XPdu5vBRsFv"
      },
      "execution_count": 132,
      "outputs": []
    },
    {
      "cell_type": "code",
      "source": [
        "q = '教室'"
      ],
      "metadata": {
        "id": "LcrQb2h8Nmi0"
      },
      "execution_count": 133,
      "outputs": []
    },
    {
      "cell_type": "code",
      "source": [
        "url = \"https://www.moedict.tw/uni/\" + q"
      ],
      "metadata": {
        "id": "XK-_6vWNQ_wj"
      },
      "execution_count": 134,
      "outputs": []
    },
    {
      "cell_type": "code",
      "source": [
        "url"
      ],
      "metadata": {
        "colab": {
          "base_uri": "https://localhost:8080/",
          "height": 36
        },
        "id": "PkXF1si6RMOV",
        "outputId": "9fbd8f73-1688-4c3d-df16-cfe87146b754"
      },
      "execution_count": 135,
      "outputs": [
        {
          "output_type": "execute_result",
          "data": {
            "text/plain": [
              "'https://www.moedict.tw/uni/教室'"
            ],
            "application/vnd.google.colaboratory.intrinsic+json": {
              "type": "string"
            }
          },
          "metadata": {},
          "execution_count": 135
        }
      ]
    },
    {
      "cell_type": "code",
      "source": [
        "r = requests.get(url)"
      ],
      "metadata": {
        "id": "XwrkQ_VZRP96"
      },
      "execution_count": 136,
      "outputs": []
    },
    {
      "cell_type": "code",
      "source": [
        "print(r.text)"
      ],
      "metadata": {
        "colab": {
          "base_uri": "https://localhost:8080/"
        },
        "id": "6lgywm5gRZiN",
        "outputId": "e83a524a-f46f-4bac-a322-193888b5174c"
      },
      "execution_count": 137,
      "outputs": [
        {
          "output_type": "stream",
          "name": "stdout",
          "text": [
            "\t{\n",
            "\t\t\"heteronyms\": [\n",
            "\t\t\t{\n",
            "\t\t\t\t\"bopomofo\": \"ㄐㄧㄠˋ ㄕˋ\",\n",
            "\t\t\t\t\"bopomofo2\": \"jiàu shr̀\",\n",
            "\t\t\t\t\"definitions\": [\n",
            "\t\t\t\t\t{\n",
            "\t\t\t\t\t\t\"def\": \"學校裡進行教學活動的房間。\",\n",
            "\t\t\t\t\t\t\"example\": [\n",
            "\t\t\t\t\t\t\t\"如：「實驗教室」、「音樂教室」。\"\n",
            "\t\t\t\t\t\t],\n",
            "\t\t\t\t\t\t\"synonyms\": \"課堂,講堂\"\n",
            "\t\t\t\t\t}\n",
            "\t\t\t\t],\n",
            "\t\t\t\t\"pinyin\": \"jiào shì\"\n",
            "\t\t\t}\n",
            "\t\t],\n",
            "\t\t\"title\": \"教室\"\n",
            "\t}\n"
          ]
        }
      ]
    },
    {
      "cell_type": "markdown",
      "source": [
        "##### 剖析資料"
      ],
      "metadata": {
        "id": "vtF-in0NUu8D"
      }
    },
    {
      "cell_type": "code",
      "source": [
        "data = json.loads(r.text)"
      ],
      "metadata": {
        "id": "xBYE-3JcRfRW"
      },
      "execution_count": 140,
      "outputs": []
    },
    {
      "cell_type": "code",
      "source": [
        "type(data)"
      ],
      "metadata": {
        "colab": {
          "base_uri": "https://localhost:8080/"
        },
        "id": "jm70y1akU8sx",
        "outputId": "d3c8b2b8-afd6-4af6-f2f5-45b11cb5609d"
      },
      "execution_count": 141,
      "outputs": [
        {
          "output_type": "execute_result",
          "data": {
            "text/plain": [
              "dict"
            ]
          },
          "metadata": {},
          "execution_count": 141
        }
      ]
    },
    {
      "cell_type": "code",
      "source": [
        "data"
      ],
      "metadata": {
        "colab": {
          "base_uri": "https://localhost:8080/"
        },
        "id": "SAwQo4W7VBIi",
        "outputId": "77668e2c-685b-424a-9bcb-1b1ca88550e7"
      },
      "execution_count": 142,
      "outputs": [
        {
          "output_type": "execute_result",
          "data": {
            "text/plain": [
              "{'heteronyms': [{'bopomofo': 'ㄐㄧㄠˋ ㄕˋ',\n",
              "   'bopomofo2': 'jiàu shr̀',\n",
              "   'definitions': [{'def': '學校裡進行教學活動的房間。',\n",
              "     'example': ['如：「實驗教室」、「音樂教室」。'],\n",
              "     'synonyms': '課堂,講堂'}],\n",
              "   'pinyin': 'jiào shì'}],\n",
              " 'title': '教室'}"
            ]
          },
          "metadata": {},
          "execution_count": 142
        }
      ]
    },
    {
      "cell_type": "code",
      "source": [
        "data['heteronyms']"
      ],
      "metadata": {
        "colab": {
          "base_uri": "https://localhost:8080/"
        },
        "id": "V4JludFhVDlo",
        "outputId": "196489b9-60e3-4582-fb98-16848dde28eb"
      },
      "execution_count": 145,
      "outputs": [
        {
          "output_type": "execute_result",
          "data": {
            "text/plain": [
              "[{'bopomofo': 'ㄐㄧㄠˋ ㄕˋ',\n",
              "  'bopomofo2': 'jiàu shr̀',\n",
              "  'definitions': [{'def': '學校裡進行教學活動的房間。',\n",
              "    'example': ['如：「實驗教室」、「音樂教室」。'],\n",
              "    'synonyms': '課堂,講堂'}],\n",
              "  'pinyin': 'jiào shì'}]"
            ]
          },
          "metadata": {},
          "execution_count": 145
        }
      ]
    },
    {
      "cell_type": "code",
      "source": [
        "type(data['heteronyms'])"
      ],
      "metadata": {
        "colab": {
          "base_uri": "https://localhost:8080/"
        },
        "id": "Y4I7u5gPW4TD",
        "outputId": "cec8f8df-9f52-446f-df64-3f09845c3be9"
      },
      "execution_count": 154,
      "outputs": [
        {
          "output_type": "execute_result",
          "data": {
            "text/plain": [
              "list"
            ]
          },
          "metadata": {},
          "execution_count": 154
        }
      ]
    },
    {
      "cell_type": "code",
      "source": [
        "len(data['heteronyms'])"
      ],
      "metadata": {
        "colab": {
          "base_uri": "https://localhost:8080/"
        },
        "id": "oDAdIqryW_N0",
        "outputId": "5d4a849d-2dd7-4ed4-ccd1-62138e2407e7"
      },
      "execution_count": 155,
      "outputs": [
        {
          "output_type": "execute_result",
          "data": {
            "text/plain": [
              "1"
            ]
          },
          "metadata": {},
          "execution_count": 155
        }
      ]
    },
    {
      "cell_type": "code",
      "source": [
        "data['heteronyms'][0]"
      ],
      "metadata": {
        "colab": {
          "base_uri": "https://localhost:8080/"
        },
        "id": "7d-gse8BVKx4",
        "outputId": "47f5c2da-f571-421b-a33b-d909f6366e7d"
      },
      "execution_count": 152,
      "outputs": [
        {
          "output_type": "execute_result",
          "data": {
            "text/plain": [
              "{'bopomofo': 'ㄐㄧㄠˋ ㄕˋ',\n",
              " 'bopomofo2': 'jiàu shr̀',\n",
              " 'definitions': [{'def': '學校裡進行教學活動的房間。',\n",
              "   'example': ['如：「實驗教室」、「音樂教室」。'],\n",
              "   'synonyms': '課堂,講堂'}],\n",
              " 'pinyin': 'jiào shì'}"
            ]
          },
          "metadata": {},
          "execution_count": 152
        }
      ]
    },
    {
      "cell_type": "code",
      "source": [
        "data['heteronyms'][0]['definitions']"
      ],
      "metadata": {
        "colab": {
          "base_uri": "https://localhost:8080/"
        },
        "id": "1CmI3UGTV1tl",
        "outputId": "811edbe0-bbe7-42cd-f39c-33742246102c"
      },
      "execution_count": 148,
      "outputs": [
        {
          "output_type": "execute_result",
          "data": {
            "text/plain": [
              "[{'def': '學校裡進行教學活動的房間。',\n",
              "  'example': ['如：「實驗教室」、「音樂教室」。'],\n",
              "  'synonyms': '課堂,講堂'}]"
            ]
          },
          "metadata": {},
          "execution_count": 148
        }
      ]
    },
    {
      "cell_type": "code",
      "source": [
        "data['heteronyms'][0]['definitions'][0]"
      ],
      "metadata": {
        "colab": {
          "base_uri": "https://localhost:8080/"
        },
        "id": "f39DBcveWDvT",
        "outputId": "35f967b0-d8f0-4c34-e1d0-756550ad0548"
      },
      "execution_count": 149,
      "outputs": [
        {
          "output_type": "execute_result",
          "data": {
            "text/plain": [
              "{'def': '學校裡進行教學活動的房間。', 'example': ['如：「實驗教室」、「音樂教室」。'], 'synonyms': '課堂,講堂'}"
            ]
          },
          "metadata": {},
          "execution_count": 149
        }
      ]
    },
    {
      "cell_type": "code",
      "source": [
        "data['heteronyms'][0]['definitions'][0]['def']"
      ],
      "metadata": {
        "colab": {
          "base_uri": "https://localhost:8080/",
          "height": 36
        },
        "id": "ah8UBEVmWJ2u",
        "outputId": "8b6c3c48-c92b-4a4c-8ff1-47487ea226fb"
      },
      "execution_count": 150,
      "outputs": [
        {
          "output_type": "execute_result",
          "data": {
            "text/plain": [
              "'學校裡進行教學活動的房間。'"
            ],
            "application/vnd.google.colaboratory.intrinsic+json": {
              "type": "string"
            }
          },
          "metadata": {},
          "execution_count": 150
        }
      ]
    },
    {
      "cell_type": "markdown",
      "source": [
        "### 方法二"
      ],
      "metadata": {
        "id": "VDbVVAWbX2nj"
      }
    },
    {
      "cell_type": "code",
      "source": [
        "# 直接將抓取json資料跟剖析json資料寫在一起\n",
        "data = requests.get(url).json()"
      ],
      "metadata": {
        "id": "5ZhTojg4WP9o"
      },
      "execution_count": 156,
      "outputs": []
    },
    {
      "cell_type": "code",
      "source": [
        "# 取得我們所需的資訊\n",
        "data['heteronyms'][0]['definitions'][0]['def']"
      ],
      "metadata": {
        "colab": {
          "base_uri": "https://localhost:8080/",
          "height": 36
        },
        "id": "Z4oR04NvYfIR",
        "outputId": "495713b7-d121-4a37-e130-357e392177c5"
      },
      "execution_count": 157,
      "outputs": [
        {
          "output_type": "execute_result",
          "data": {
            "text/plain": [
              "'學校裡進行教學活動的房間。'"
            ],
            "application/vnd.google.colaboratory.intrinsic+json": {
              "type": "string"
            }
          },
          "metadata": {},
          "execution_count": 157
        }
      ]
    },
    {
      "cell_type": "markdown",
      "source": [
        "#### 將上面方法二寫成函式來使用"
      ],
      "metadata": {
        "id": "QVCQR7GmY9h1"
      }
    },
    {
      "cell_type": "code",
      "source": [
        "def lookup(q):\n",
        "  url = 'https://www.moedict.tw/uni/'+q\n",
        "  data = requests.get(url).json()\n",
        "  return data['heteronyms'][0]['definitions'][0]['def']"
      ],
      "metadata": {
        "id": "ZrvFEn_rYi2d"
      },
      "execution_count": 159,
      "outputs": []
    },
    {
      "cell_type": "code",
      "source": [
        "lookup(\"教室\")"
      ],
      "metadata": {
        "colab": {
          "base_uri": "https://localhost:8080/",
          "height": 36
        },
        "id": "Tqqi84JlZ32f",
        "outputId": "a141b478-e67b-442b-9bc4-1b883f58caac"
      },
      "execution_count": 160,
      "outputs": [
        {
          "output_type": "execute_result",
          "data": {
            "text/plain": [
              "'學校裡進行教學活動的房間。'"
            ],
            "application/vnd.google.colaboratory.intrinsic+json": {
              "type": "string"
            }
          },
          "metadata": {},
          "execution_count": 160
        }
      ]
    },
    {
      "cell_type": "code",
      "source": [
        "lookup(\"太陽\")"
      ],
      "metadata": {
        "colab": {
          "base_uri": "https://localhost:8080/",
          "height": 54
        },
        "id": "GDf47GnxaPiG",
        "outputId": "f190f288-39ab-4d48-eaaf-c85ced704af9"
      },
      "execution_count": 161,
      "outputs": [
        {
          "output_type": "execute_result",
          "data": {
            "text/plain": [
              "'日的通稱。天體恆星之一，半徑約為七十萬公里，距地球約一億五千萬公里。有巨大的熱能輻射，其表面溫度為攝氏六千度，中心溫度在攝氏一千萬度以上。地球以它為中心作公轉，並從它得到光和熱。'"
            ],
            "application/vnd.google.colaboratory.intrinsic+json": {
              "type": "string"
            }
          },
          "metadata": {},
          "execution_count": 161
        }
      ]
    },
    {
      "cell_type": "markdown",
      "source": [
        "#### reqests.get(url).json() 是啥？\n",
        "\n",
        "底下兩個東西結果是一樣的：\n",
        "\n",
        "作法一：\n",
        "```python\n",
        "import requests\n",
        "import json\n",
        "\n",
        "r = requests.get(url)\n",
        "data = json.loads(r.text)\n",
        "```\n",
        "\n",
        "作法二:\n",
        "```python\n",
        "import requests\n",
        "\n",
        "data = requests.get(url).json()\n",
        "```"
      ],
      "metadata": {
        "id": "wBsDgMI1boJn"
      }
    },
    {
      "cell_type": "markdown",
      "source": [
        "#### 讀取0050成份股\n",
        "\n",
        "https://www.yuantaetfs.com/api/StkWeights?date=&fundid=1066"
      ],
      "metadata": {
        "id": "sj6wF7nVd2KC"
      }
    },
    {
      "cell_type": "code",
      "source": [
        "url = \"https://www.yuantaetfs.com/api/StkWeights?date=&fundid=1066\""
      ],
      "metadata": {
        "id": "yhOof12UbAkQ"
      },
      "execution_count": 164,
      "outputs": []
    },
    {
      "cell_type": "code",
      "source": [
        "data = requests.get(url).json()"
      ],
      "metadata": {
        "id": "Mj6JOlb9fXJu"
      },
      "execution_count": 165,
      "outputs": []
    },
    {
      "cell_type": "code",
      "source": [
        "data"
      ],
      "metadata": {
        "colab": {
          "base_uri": "https://localhost:8080/"
        },
        "id": "9xqJTa-Xfij5",
        "outputId": "c2e14b77-19e5-4446-f6e8-5f8f4e1ed777"
      },
      "execution_count": 166,
      "outputs": [
        {
          "output_type": "execute_result",
          "data": {
            "text/plain": [
              "[{'code': '2330',\n",
              "  'ym': None,\n",
              "  'name': '台積電',\n",
              "  'ename': 'Taiwan Semiconductor Manufacturing Co. Ltd.',\n",
              "  'weights': 48.73,\n",
              "  'qty': 246120278.0},\n",
              " {'code': '2317',\n",
              "  'ym': None,\n",
              "  'name': '鴻海',\n",
              "  'ename': 'HON HAI PRECISION IND. CO. LTD.',\n",
              "  'weights': 4.51,\n",
              "  'qty': 122305400.0},\n",
              " {'code': '2454',\n",
              "  'ym': None,\n",
              "  'name': '聯發科',\n",
              "  'ename': 'MediaTek Inc.',\n",
              "  'weights': 4.1,\n",
              "  'qty': 15248561.0},\n",
              " {'code': '2308',\n",
              "  'ym': None,\n",
              "  'name': '台達電',\n",
              "  'ename': 'DELTA ELECTRONICS INC.',\n",
              "  'weights': 2.36,\n",
              "  'qty': 22141605.0},\n",
              " {'code': '2303',\n",
              "  'ym': None,\n",
              "  'name': '聯電',\n",
              "  'ename': 'UNITED MICROELECTRONICS CORP.',\n",
              "  'weights': 2.21,\n",
              "  'qty': 119992423.0},\n",
              " {'code': '2881',\n",
              "  'ym': None,\n",
              "  'name': '富邦金',\n",
              "  'ename': 'Fubon Financial Holding Co. Ltd.',\n",
              "  'weights': 1.62,\n",
              "  'qty': 75568931.0},\n",
              " {'code': '2412',\n",
              "  'ym': None,\n",
              "  'name': '中華電',\n",
              "  'ename': 'Chunghwa Telecom Co. Ltd',\n",
              "  'weights': 1.6,\n",
              "  'qty': 38981167.0},\n",
              " {'code': '1303',\n",
              "  'ym': None,\n",
              "  'name': '南亞',\n",
              "  'ename': 'NAN YA PLASTICS CORPORATION',\n",
              "  'weights': 1.56,\n",
              "  'qty': 57880391.0},\n",
              " {'code': '2891',\n",
              "  'ym': None,\n",
              "  'name': '中信金',\n",
              "  'ename': 'CTBC FINANCIAL HOLDING CO. LTD.',\n",
              "  'weights': 1.52,\n",
              "  'qty': 185988205.0},\n",
              " {'code': '2002',\n",
              "  'ym': None,\n",
              "  'name': '中鋼',\n",
              "  'ename': 'China Steel Corporation',\n",
              "  'weights': 1.43,\n",
              "  'qty': 126394577.0},\n",
              " {'code': '2882',\n",
              "  'ym': None,\n",
              "  'name': '國泰金',\n",
              "  'ename': 'CATHAY FINANCIAL HOLDING CO. LTD.',\n",
              "  'weights': 1.42,\n",
              "  'qty': 91602832.0},\n",
              " {'code': '2886',\n",
              "  'ym': None,\n",
              "  'name': '兆豐金',\n",
              "  'ename': 'Mega Financial Holding Company Ltd.',\n",
              "  'weights': 1.35,\n",
              "  'qty': 114362664.0},\n",
              " {'code': '3711',\n",
              "  'ym': None,\n",
              "  'name': '日月光投控',\n",
              "  'ename': 'ASE Technology Holding Co. Ltd.',\n",
              "  'weights': 1.34,\n",
              "  'qty': 34886744.0},\n",
              " {'code': '2884',\n",
              "  'ym': None,\n",
              "  'name': '玉山金',\n",
              "  'ename': 'E.SUN FINANCIAL HOLDING COMPANYLTD.',\n",
              "  'weights': 1.25,\n",
              "  'qty': 138873462.0},\n",
              " {'code': '1301',\n",
              "  'ym': None,\n",
              "  'name': '台塑',\n",
              "  'ename': 'Formosa Plastics Corporation',\n",
              "  'weights': 1.24,\n",
              "  'qty': 38231086.0},\n",
              " {'code': '5871',\n",
              "  'ym': None,\n",
              "  'name': '中租-KY',\n",
              "  'ename': 'Chailease Holding Company Limited',\n",
              "  'weights': 1.2,\n",
              "  'qty': 14144085.0},\n",
              " {'code': '1216',\n",
              "  'ym': None,\n",
              "  'name': '統一',\n",
              "  'ename': 'UNI-PRESIDENT ENTERPRISES CORP.',\n",
              "  'weights': 1.19,\n",
              "  'qty': 49132681.0},\n",
              " {'code': '2892',\n",
              "  'ym': None,\n",
              "  'name': '第一金',\n",
              "  'ename': 'First  Financial  Holding  Co.  Ltd.',\n",
              "  'weights': 1.02,\n",
              "  'qty': 106817864.0},\n",
              " {'code': '2885',\n",
              "  'ym': None,\n",
              "  'name': '元大金',\n",
              "  'ename': 'Yuanta Financial Holding Co. Ltd',\n",
              "  'weights': 1.02,\n",
              "  'qty': 122755367.0},\n",
              " {'code': '5880',\n",
              "  'ym': None,\n",
              "  'name': '合庫金',\n",
              "  'ename': 'Taiwan Cooperative Financial Holding Co.Ltd.',\n",
              "  'weights': 1.0,\n",
              "  'qty': 103436952.0},\n",
              " {'code': '1326',\n",
              "  'ym': None,\n",
              "  'name': '台化',\n",
              "  'ename': 'FORMOSA CHEMICALS & FIBRE CORPORATION',\n",
              "  'weights': 0.9,\n",
              "  'qty': 35087873.0},\n",
              " {'code': '1101',\n",
              "  'ym': None,\n",
              "  'name': '台泥',\n",
              "  'ename': 'Taiwan Cement Corp.',\n",
              "  'weights': 0.87,\n",
              "  'qty': 64754131.0},\n",
              " {'code': '3008',\n",
              "  'ym': None,\n",
              "  'name': '大立光',\n",
              "  'ename': 'LARGAN Precision Co.Ltd',\n",
              "  'weights': 0.86,\n",
              "  'qty': 1050671.0},\n",
              " {'code': '2880',\n",
              "  'ym': None,\n",
              "  'name': '華南金',\n",
              "  'ename': 'HUA NAN FINANCIAL HOLDINGS CO.LTD.',\n",
              "  'weights': 0.86,\n",
              "  'qty': 104118718.0},\n",
              " {'code': '3034',\n",
              "  'ym': None,\n",
              "  'name': '聯詠',\n",
              "  'ename': 'NOVATEK MICROELECTRONICS CORP.',\n",
              "  'weights': 0.82,\n",
              "  'qty': 5865565.0},\n",
              " {'code': '2382',\n",
              "  'ym': None,\n",
              "  'name': '廣達',\n",
              "  'ename': 'QUANTA COMPUTER INC.',\n",
              "  'weights': 0.77,\n",
              "  'qty': 27268460.0},\n",
              " {'code': '6415',\n",
              "  'ym': None,\n",
              "  'name': '矽力*-KY',\n",
              "  'ename': 'Silergy Corp.',\n",
              "  'weights': 0.76,\n",
              "  'qty': 3317515.0},\n",
              " {'code': '2883',\n",
              "  'ym': None,\n",
              "  'name': '開發金',\n",
              "  'ename': 'CHINA DEVELOPMENT FINANCIAL HOLDING CORP.',\n",
              "  'weights': 0.76,\n",
              "  'qty': 161503344.0},\n",
              " {'code': '2327',\n",
              "  'ym': None,\n",
              "  'name': '國巨',\n",
              "  'ename': 'YAGEO CORPORATION',\n",
              "  'weights': 0.75,\n",
              "  'qty': 4002627.0},\n",
              " {'code': '2207',\n",
              "  'ym': None,\n",
              "  'name': '和泰車',\n",
              "  'ename': 'HOTAI MOTOR CO.LTD.',\n",
              "  'weights': 0.74,\n",
              "  'qty': 3268973.0},\n",
              " {'code': '2357',\n",
              "  'ym': None,\n",
              "  'name': '華碩',\n",
              "  'ename': 'ASUSTEK COMPUTER INC.',\n",
              "  'weights': 0.71,\n",
              "  'qty': 7228285.0},\n",
              " {'code': '2887',\n",
              "  'ym': None,\n",
              "  'name': '台新金',\n",
              "  'ename': 'Taishin Financial Holding Co. Ltd.',\n",
              "  'weights': 0.68,\n",
              "  'qty': 116495910.0},\n",
              " {'code': '2890',\n",
              "  'ym': None,\n",
              "  'name': '永豐金',\n",
              "  'ename': 'SINOPAC  FINANCIAL HOLDINGS COMPANY LIMITED',\n",
              "  'weights': 0.68,\n",
              "  'qty': 108573634.0},\n",
              " {'code': '1590',\n",
              "  'ym': None,\n",
              "  'name': '亞德客-KY',\n",
              "  'ename': 'AIRTAC INTERNATIONAL GROUP',\n",
              "  'weights': 0.63,\n",
              "  'qty': 1600046.0},\n",
              " {'code': '2379',\n",
              "  'ym': None,\n",
              "  'name': '瑞昱',\n",
              "  'ename': 'Realtek Semiconductor Corporation',\n",
              "  'weights': 0.63,\n",
              "  'qty': 4874788.0},\n",
              " {'code': '3045',\n",
              "  'ym': None,\n",
              "  'name': '台灣大',\n",
              "  'ename': 'TAIWAN  MOBILE  CO. LTD.',\n",
              "  'weights': 0.62,\n",
              "  'qty': 17684259.0},\n",
              " {'code': '5876',\n",
              "  'ym': None,\n",
              "  'name': '上海商銀',\n",
              "  'ename': 'THE SHANGHAI COMMERCIAL & SAVINGS BANK LTD.',\n",
              "  'weights': 0.62,\n",
              "  'qty': 36040157.0},\n",
              " {'code': '3037',\n",
              "  'ym': None,\n",
              "  'name': '欣興',\n",
              "  'ename': 'Unimicron Technology Corp.',\n",
              "  'weights': 0.6,\n",
              "  'qty': 12895441.0},\n",
              " {'code': '2912',\n",
              "  'ym': None,\n",
              "  'name': '統一超',\n",
              "  'ename': 'PRESIDENT CHAIN STORE CORPORATION',\n",
              "  'weights': 0.56,\n",
              "  'qty': 5752852.0},\n",
              " {'code': '2395',\n",
              "  'ym': None,\n",
              "  'name': '研華',\n",
              "  'ename': 'ADVANTECH Co. Ltd.',\n",
              "  'weights': 0.55,\n",
              "  'qty': 4233348.0},\n",
              " {'code': '2603',\n",
              "  'ym': None,\n",
              "  'name': '長榮',\n",
              "  'ename': 'EVERGREEN MARINE CORP. (TAIWAN) LTD.',\n",
              "  'weights': 0.55,\n",
              "  'qty': 10309167.0},\n",
              " {'code': '1402',\n",
              "  'ym': None,\n",
              "  'name': '遠東新',\n",
              "  'ename': 'Far Eastern New Century Corporation',\n",
              "  'weights': 0.47,\n",
              "  'qty': 40210277.0},\n",
              " {'code': '2801',\n",
              "  'ym': None,\n",
              "  'name': '彰銀',\n",
              "  'ename': 'CHANG HWA COMMERCIAL BANK LTD.',\n",
              "  'weights': 0.43,\n",
              "  'qty': 67919862.0},\n",
              " {'code': '6505',\n",
              "  'ym': None,\n",
              "  'name': '台塑化',\n",
              "  'ename': 'Formosa Petrochemical Corp',\n",
              "  'weights': 0.42,\n",
              "  'qty': 13988798.0},\n",
              " {'code': '4904',\n",
              "  'ym': None,\n",
              "  'name': '遠傳',\n",
              "  'ename': 'Far EasTone Telecommunications Co. Ltd.',\n",
              "  'weights': 0.4,\n",
              "  'qty': 16373549.0},\n",
              " {'code': '2615',\n",
              "  'ym': None,\n",
              "  'name': '萬海',\n",
              "  'ename': 'WAN HAI LINES LTD.',\n",
              "  'weights': 0.39,\n",
              "  'qty': 14386012.0},\n",
              " {'code': '2609',\n",
              "  'ym': None,\n",
              "  'name': '陽明',\n",
              "  'ename': 'Yang Ming Marine Transport Corp.',\n",
              "  'weights': 0.39,\n",
              "  'qty': 17902014.0},\n",
              " {'code': '9910',\n",
              "  'ym': None,\n",
              "  'name': '豐泰',\n",
              "  'ename': 'FENG TAY ENTERPRISES CO. LTD.',\n",
              "  'weights': 0.31,\n",
              "  'qty': 4520752.0},\n",
              " {'code': '8046',\n",
              "  'ym': None,\n",
              "  'name': '南電',\n",
              "  'ename': 'NAN YA PRINTED CIRCUIT BOARD CORPORATION',\n",
              "  'weights': 0.19,\n",
              "  'qty': 2153132.0},\n",
              " {'code': '2408',\n",
              "  'ym': None,\n",
              "  'name': '南亞科',\n",
              "  'ename': 'NANYA TECHNOLOGY CORPORATION',\n",
              "  'weights': 0.18,\n",
              "  'qty': 8388112.0}]"
            ]
          },
          "metadata": {},
          "execution_count": 166
        }
      ]
    },
    {
      "cell_type": "code",
      "source": [
        "for i in data:\n",
        "  print(i['code'],\":\",i['name'])"
      ],
      "metadata": {
        "colab": {
          "base_uri": "https://localhost:8080/"
        },
        "id": "vWJ8rpuxfjtM",
        "outputId": "4ff9b1e6-af43-4b59-aefe-0d2aa986a001"
      },
      "execution_count": 167,
      "outputs": [
        {
          "output_type": "stream",
          "name": "stdout",
          "text": [
            "2330 : 台積電\n",
            "2317 : 鴻海\n",
            "2454 : 聯發科\n",
            "2308 : 台達電\n",
            "2303 : 聯電\n",
            "2881 : 富邦金\n",
            "2412 : 中華電\n",
            "1303 : 南亞\n",
            "2891 : 中信金\n",
            "2002 : 中鋼\n",
            "2882 : 國泰金\n",
            "2886 : 兆豐金\n",
            "3711 : 日月光投控\n",
            "2884 : 玉山金\n",
            "1301 : 台塑\n",
            "5871 : 中租-KY\n",
            "1216 : 統一\n",
            "2892 : 第一金\n",
            "2885 : 元大金\n",
            "5880 : 合庫金\n",
            "1326 : 台化\n",
            "1101 : 台泥\n",
            "3008 : 大立光\n",
            "2880 : 華南金\n",
            "3034 : 聯詠\n",
            "2382 : 廣達\n",
            "6415 : 矽力*-KY\n",
            "2883 : 開發金\n",
            "2327 : 國巨\n",
            "2207 : 和泰車\n",
            "2357 : 華碩\n",
            "2887 : 台新金\n",
            "2890 : 永豐金\n",
            "1590 : 亞德客-KY\n",
            "2379 : 瑞昱\n",
            "3045 : 台灣大\n",
            "5876 : 上海商銀\n",
            "3037 : 欣興\n",
            "2912 : 統一超\n",
            "2395 : 研華\n",
            "2603 : 長榮\n",
            "1402 : 遠東新\n",
            "2801 : 彰銀\n",
            "6505 : 台塑化\n",
            "4904 : 遠傳\n",
            "2615 : 萬海\n",
            "2609 : 陽明\n",
            "9910 : 豐泰\n",
            "8046 : 南電\n",
            "2408 : 南亞科\n"
          ]
        }
      ]
    },
    {
      "cell_type": "code",
      "source": [],
      "metadata": {
        "id": "sXO_PXTmgIWS"
      },
      "execution_count": null,
      "outputs": []
    }
  ]
}