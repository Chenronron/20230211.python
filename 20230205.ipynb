{
  "nbformat": 4,
  "nbformat_minor": 0,
  "metadata": {
    "colab": {
      "provenance": [],
      "authorship_tag": "ABX9TyO+XEeBwtbvN7JFuXL1SIjT",
      "include_colab_link": true
    },
    "kernelspec": {
      "name": "python3",
      "display_name": "Python 3"
    },
    "language_info": {
      "name": "python"
    }
  },
  "cells": [
    {
      "cell_type": "markdown",
      "metadata": {
        "id": "view-in-github",
        "colab_type": "text"
      },
      "source": [
        "<a href=\"https://colab.research.google.com/github/Chenronron/20230211.python/blob/main/20230205.ipynb\" target=\"_parent\"><img src=\"https://colab.research.google.com/assets/colab-badge.svg\" alt=\"Open In Colab\"/></a>"
      ]
    },
    {
      "cell_type": "markdown",
      "source": [
        "#20230205"
      ],
      "metadata": {
        "id": "A4_8ND8zuDMM"
      }
    },
    {
      "cell_type": "markdown",
      "source": [
        "#Markdown 語法說明"
      ],
      "metadata": {
        "id": "_Or-U_2IhJ3L"
      }
    },
    {
      "cell_type": "markdown",
      "source": [
        "#最大標題\n",
        "##次大標題\n",
        "##次次大標題\n",
        "\n",
        "* item 1\n",
        "* item 2\n",
        "* item 3\n",
        "\n",
        "[]"
      ],
      "metadata": {
        "id": "JQohYF6HhZ4g"
      }
    },
    {
      "cell_type": "markdown",
      "source": [
        "##變數"
      ],
      "metadata": {
        "id": "Htb766sT-Ac7"
      }
    },
    {
      "cell_type": "code",
      "source": [
        "x = 1"
      ],
      "metadata": {
        "id": "rHFjpqry-Eli"
      },
      "execution_count": null,
      "outputs": []
    },
    {
      "cell_type": "code",
      "source": [
        "id(x)"
      ],
      "metadata": {
        "colab": {
          "base_uri": "https://localhost:8080/"
        },
        "id": "-saTCIxq-zrz",
        "outputId": "d0c266fd-edef-49e1-ffc7-9bfd8878e2b9"
      },
      "execution_count": null,
      "outputs": [
        {
          "output_type": "execute_result",
          "data": {
            "text/plain": [
              "9793088"
            ]
          },
          "metadata": {},
          "execution_count": 5
        }
      ]
    },
    {
      "cell_type": "code",
      "source": [
        "id?"
      ],
      "metadata": {
        "id": "7WRQInpK--h5"
      },
      "execution_count": null,
      "outputs": []
    },
    {
      "cell_type": "code",
      "source": [
        "type(x)"
      ],
      "metadata": {
        "colab": {
          "base_uri": "https://localhost:8080/"
        },
        "id": "wH1zWjNR_YDo",
        "outputId": "c77115f7-eb6e-4f7e-b049-f5deb2cb521a"
      },
      "execution_count": null,
      "outputs": [
        {
          "output_type": "execute_result",
          "data": {
            "text/plain": [
              "int"
            ]
          },
          "metadata": {},
          "execution_count": 8
        }
      ]
    },
    {
      "cell_type": "code",
      "source": [
        "#變數有分大小寫\n",
        "x"
      ],
      "metadata": {
        "colab": {
          "base_uri": "https://localhost:8080/"
        },
        "id": "pz3Xd_OSAPwJ",
        "outputId": "a2171a24-0367-45b1-b71e-af4d6cca906e"
      },
      "execution_count": null,
      "outputs": [
        {
          "output_type": "execute_result",
          "data": {
            "text/plain": [
              "1"
            ]
          },
          "metadata": {},
          "execution_count": 12
        }
      ]
    },
    {
      "cell_type": "code",
      "source": [
        "abc=1"
      ],
      "metadata": {
        "id": "k27D6DBIA5ux"
      },
      "execution_count": null,
      "outputs": []
    },
    {
      "cell_type": "code",
      "source": [
        "_abc = 1"
      ],
      "metadata": {
        "id": "0L4BOlLlBABy"
      },
      "execution_count": null,
      "outputs": []
    },
    {
      "cell_type": "code",
      "source": [
        "#不可為負號\n",
        "-abc = 1"
      ],
      "metadata": {
        "id": "vDi_GPlqBGhU"
      },
      "execution_count": null,
      "outputs": []
    },
    {
      "cell_type": "code",
      "source": [
        "#不可為數字\n",
        "2abc = 1"
      ],
      "metadata": {
        "id": "ez35DNb5BJ_c"
      },
      "execution_count": null,
      "outputs": []
    },
    {
      "cell_type": "markdown",
      "source": [
        "##基本資料型態:\n",
        "\n",
        "*   int(整數)\n",
        "*   float(浮點數)\n",
        "*   bool(布林變數)\n",
        "*   str(字串)\n",
        "\n",
        "\n"
      ],
      "metadata": {
        "id": "zd2BwxRiuH21"
      }
    },
    {
      "cell_type": "code",
      "source": [
        "x = 1"
      ],
      "metadata": {
        "id": "mPgY6IRCB46b"
      },
      "execution_count": null,
      "outputs": []
    },
    {
      "cell_type": "code",
      "source": [
        "type(x)"
      ],
      "metadata": {
        "colab": {
          "base_uri": "https://localhost:8080/"
        },
        "id": "Eknpz39PB-7K",
        "outputId": "3d48809c-c1a3-43e5-8588-d7dc088be4c3"
      },
      "execution_count": null,
      "outputs": [
        {
          "output_type": "execute_result",
          "data": {
            "text/plain": [
              "int"
            ]
          },
          "metadata": {},
          "execution_count": 16
        }
      ]
    },
    {
      "cell_type": "code",
      "source": [
        "y = 1.0"
      ],
      "metadata": {
        "id": "c-GPKHB_CDgU"
      },
      "execution_count": null,
      "outputs": []
    },
    {
      "cell_type": "code",
      "source": [
        "type(y)"
      ],
      "metadata": {
        "colab": {
          "base_uri": "https://localhost:8080/"
        },
        "id": "4sY4zA0zCHfS",
        "outputId": "0f73751e-a4e9-4098-d327-b5a38ce57d92"
      },
      "execution_count": null,
      "outputs": [
        {
          "output_type": "execute_result",
          "data": {
            "text/plain": [
              "float"
            ]
          },
          "metadata": {},
          "execution_count": 18
        }
      ]
    },
    {
      "cell_type": "code",
      "source": [
        "3 > 2"
      ],
      "metadata": {
        "colab": {
          "base_uri": "https://localhost:8080/"
        },
        "id": "i3CriP2WCJ_p",
        "outputId": "e4bff804-d8b2-4a53-f5d0-c96aa76b1591"
      },
      "execution_count": null,
      "outputs": [
        {
          "output_type": "execute_result",
          "data": {
            "text/plain": [
              "True"
            ]
          },
          "metadata": {},
          "execution_count": 19
        }
      ]
    },
    {
      "cell_type": "code",
      "source": [
        "3 < 2"
      ],
      "metadata": {
        "colab": {
          "base_uri": "https://localhost:8080/"
        },
        "id": "zLU3ICjyCOIy",
        "outputId": "c251b37c-440e-4224-fbe4-e0ae0a41721d"
      },
      "execution_count": null,
      "outputs": [
        {
          "output_type": "execute_result",
          "data": {
            "text/plain": [
              "False"
            ]
          },
          "metadata": {},
          "execution_count": 20
        }
      ]
    },
    {
      "cell_type": "code",
      "source": [
        "z = 3 > 2"
      ],
      "metadata": {
        "id": "XZ9PEox0CRF4"
      },
      "execution_count": null,
      "outputs": []
    },
    {
      "cell_type": "code",
      "source": [
        "z"
      ],
      "metadata": {
        "colab": {
          "base_uri": "https://localhost:8080/"
        },
        "id": "YIU73mcpCbcx",
        "outputId": "71fbc287-d87c-4d7f-eeef-1b20ee49d2df"
      },
      "execution_count": null,
      "outputs": [
        {
          "output_type": "execute_result",
          "data": {
            "text/plain": [
              "True"
            ]
          },
          "metadata": {},
          "execution_count": 22
        }
      ]
    },
    {
      "cell_type": "code",
      "source": [
        "type(z)"
      ],
      "metadata": {
        "colab": {
          "base_uri": "https://localhost:8080/"
        },
        "id": "bfe7G-wvCdSC",
        "outputId": "19949116-b67a-4bb2-beb6-b91f6e455866"
      },
      "execution_count": null,
      "outputs": [
        {
          "output_type": "execute_result",
          "data": {
            "text/plain": [
              "bool"
            ]
          },
          "metadata": {},
          "execution_count": 23
        }
      ]
    },
    {
      "cell_type": "code",
      "source": [
        "w = dog"
      ],
      "metadata": {
        "colab": {
          "base_uri": "https://localhost:8080/",
          "height": 167
        },
        "id": "-aJK2pY8Cg0b",
        "outputId": "50991f91-30c5-4231-8638-4913e8790952"
      },
      "execution_count": null,
      "outputs": [
        {
          "output_type": "error",
          "ename": "NameError",
          "evalue": "ignored",
          "traceback": [
            "\u001b[0;31m---------------------------------------------------------------------------\u001b[0m",
            "\u001b[0;31mNameError\u001b[0m                                 Traceback (most recent call last)",
            "\u001b[0;32m<ipython-input-24-33986da45536>\u001b[0m in \u001b[0;36m<module>\u001b[0;34m\u001b[0m\n\u001b[0;32m----> 1\u001b[0;31m \u001b[0mw\u001b[0m \u001b[0;34m=\u001b[0m \u001b[0mdog\u001b[0m\u001b[0;34m\u001b[0m\u001b[0;34m\u001b[0m\u001b[0m\n\u001b[0m",
            "\u001b[0;31mNameError\u001b[0m: name 'dog' is not defined"
          ]
        }
      ]
    },
    {
      "cell_type": "code",
      "source": [
        "w = \"dog\""
      ],
      "metadata": {
        "id": "J7dLrqUiDLul"
      },
      "execution_count": null,
      "outputs": []
    },
    {
      "cell_type": "code",
      "source": [
        "type(w)"
      ],
      "metadata": {
        "colab": {
          "base_uri": "https://localhost:8080/"
        },
        "id": "i5NpI9FNDfKE",
        "outputId": "7c00779f-5512-4c1c-b654-e4907c1aeae7"
      },
      "execution_count": null,
      "outputs": [
        {
          "output_type": "execute_result",
          "data": {
            "text/plain": [
              "str"
            ]
          },
          "metadata": {},
          "execution_count": 26
        }
      ]
    },
    {
      "cell_type": "code",
      "source": [],
      "metadata": {
        "id": "X4LGdw-9Dgj4"
      },
      "execution_count": null,
      "outputs": []
    },
    {
      "cell_type": "markdown",
      "source": [
        "##Line Notify 應用\n",
        "\n",
        "使用LINE NOTIFY傳訊息給自己\n",
        "* [取得token](https://notify-bot.line.me/zh_TW/)\n",
        "* [傳送貼紙](https://github.com/victorgau/khpy_linenotify_intro/raw/main/misc/sticker_list.pdf)"
      ],
      "metadata": {
        "id": "OLFtBWGgD3w6"
      }
    },
    {
      "cell_type": "code",
      "source": [
        "#從github,將linenotify.py下載到colab裡面來。\n",
        "!wget https://raw.githubusercontent.com/victorgau/khpy_linenotify_intro/main/py/linenotify.py"
      ],
      "metadata": {
        "colab": {
          "base_uri": "https://localhost:8080/"
        },
        "id": "BwP9IniKECON",
        "outputId": "9de181d3-e957-4ce2-f074-45041f89f7fd"
      },
      "execution_count": null,
      "outputs": [
        {
          "output_type": "stream",
          "name": "stdout",
          "text": [
            "--2023-02-05 05:38:54--  https://raw.githubusercontent.com/victorgau/khpy_linenotify_intro/main/py/linenotify.py\n",
            "Resolving raw.githubusercontent.com (raw.githubusercontent.com)... 185.199.108.133, 185.199.109.133, 185.199.110.133, ...\n",
            "Connecting to raw.githubusercontent.com (raw.githubusercontent.com)|185.199.108.133|:443... connected.\n",
            "HTTP request sent, awaiting response... 200 OK\n",
            "Length: 818 [text/plain]\n",
            "Saving to: ‘linenotify.py.1’\n",
            "\n",
            "\rlinenotify.py.1       0%[                    ]       0  --.-KB/s               \rlinenotify.py.1     100%[===================>]     818  --.-KB/s    in 0s      \n",
            "\n",
            "2023-02-05 05:38:54 (45.7 MB/s) - ‘linenotify.py.1’ saved [818/818]\n",
            "\n"
          ]
        }
      ]
    },
    {
      "cell_type": "code",
      "source": [
        "from linenotify import Notify"
      ],
      "metadata": {
        "id": "tH3P4hCeE3Ic"
      },
      "execution_count": null,
      "outputs": []
    },
    {
      "cell_type": "code",
      "source": [
        "#[申請token](https://notify-bot.line.me/zh_TW/)\n",
        "token = \"9I1SEKn6xI9HwHT7iaOQD7enohcMmeIaV0zDYzy5vyb\"\n",
        "Notify(token, \"元宵節快樂\")\n",
        "Notify(token, \"你今天上課還好嗎\")"
      ],
      "metadata": {
        "colab": {
          "base_uri": "https://localhost:8080/"
        },
        "id": "TrkjznV8F-1U",
        "outputId": "8f94c48c-7af4-42f4-f791-d3e922f4b329"
      },
      "execution_count": null,
      "outputs": [
        {
          "output_type": "execute_result",
          "data": {
            "text/plain": [
              "<Response [200]>"
            ]
          },
          "metadata": {},
          "execution_count": 50
        }
      ]
    },
    {
      "cell_type": "code",
      "source": [
        "# 傳送貼紙\n",
        "# https://github.com/victorgau/khpy_linenotify_intro/raw/main/misc/sticker_list.pdf\n",
        "Notify(token, \"you are so cool\",1,100)"
      ],
      "metadata": {
        "colab": {
          "base_uri": "https://localhost:8080/"
        },
        "id": "KubgIdTBHpDZ",
        "outputId": "016e9202-129e-423c-d3a4-298ad543e3d9"
      },
      "execution_count": null,
      "outputs": [
        {
          "output_type": "execute_result",
          "data": {
            "text/plain": [
              "<Response [200]>"
            ]
          },
          "metadata": {},
          "execution_count": 44
        }
      ]
    },
    {
      "cell_type": "code",
      "source": [
        "# 傳送圖片\n",
        "Notify(token,\"上課使用程式自行對話哈哈\",1,5,\"KOBE.jpg\")"
      ],
      "metadata": {
        "colab": {
          "base_uri": "https://localhost:8080/"
        },
        "id": "Yc18byg1JmUQ",
        "outputId": "582b47f1-cb51-410e-b3d9-fdf64ece939f"
      },
      "execution_count": null,
      "outputs": [
        {
          "output_type": "execute_result",
          "data": {
            "text/plain": [
              "<Response [200]>"
            ]
          },
          "metadata": {},
          "execution_count": 51
        }
      ]
    },
    {
      "cell_type": "code",
      "source": [
        "#群組 token\n",
        "group_token = \"stpYoart7TbYTQOyeJJaLAZ8ZJXPfJNwL4gDnoBhjtI\"\n",
        "Notify(group_token, \"我下午四點下課，回家會先去運個動\",1,5)"
      ],
      "metadata": {
        "colab": {
          "base_uri": "https://localhost:8080/"
        },
        "id": "0Np7-Lg4Qgu6",
        "outputId": "f2d9c35b-e858-4a22-8733-8f7c174b1064"
      },
      "execution_count": null,
      "outputs": [
        {
          "output_type": "execute_result",
          "data": {
            "text/plain": [
              "<Response [200]>"
            ]
          },
          "metadata": {},
          "execution_count": 59
        }
      ]
    },
    {
      "cell_type": "code",
      "source": [
        "r = Notify(token,\"上課使用程式自行對話哈哈\",1,5,\"KOBE.jpg\")"
      ],
      "metadata": {
        "id": "15O9RJlXS6q4"
      },
      "execution_count": null,
      "outputs": []
    },
    {
      "cell_type": "code",
      "source": [
        "r.headers"
      ],
      "metadata": {
        "colab": {
          "base_uri": "https://localhost:8080/"
        },
        "id": "mz9nqpRkUFAH",
        "outputId": "7fdd3641-a562-457a-9fdc-16dcdcd03db1"
      },
      "execution_count": null,
      "outputs": [
        {
          "output_type": "execute_result",
          "data": {
            "text/plain": [
              "{'Server': 'nginx', 'Date': 'Sun, 05 Feb 2023 06:43:00 GMT', 'Content-Type': 'application/json', 'Transfer-Encoding': 'chunked', 'Keep-Alive': 'timeout=9', 'Vary': 'Accept-Encoding', 'X-RateLimit-Limit': '1000', 'X-RateLimit-ImageLimit': '50', 'X-RateLimit-Remaining': '993', 'X-RateLimit-ImageRemaining': '48', 'X-RateLimit-Reset': '1675582441', 'X-Robots-Tag': 'noindex, nofollow, nosnippet, noarchive', 'Content-Encoding': 'gzip'}"
            ]
          },
          "metadata": {},
          "execution_count": 60
        }
      ]
    },
    {
      "cell_type": "markdown",
      "source": [
        "##基本容器型別\n"
      ],
      "metadata": {
        "id": "DpKmH8azg0LD"
      }
    },
    {
      "cell_type": "markdown",
      "source": [
        "* list\n",
        "* tuple\n",
        "* dict\n",
        "* set"
      ],
      "metadata": {
        "id": "ky3r5M9WiQS_"
      }
    },
    {
      "cell_type": "markdown",
      "source": [
        "##實際範例\n",
        "從 json 格式的字串中取出特定資訊"
      ],
      "metadata": {
        "id": "KzQUToHGOsTZ"
      }
    },
    {
      "cell_type": "code",
      "source": [
        "s = \"\"\"{\n",
        "  \"firstName\": \"John\",\n",
        "  \"lastName\": \"Smith\",\n",
        "  \"isAlive\": true,\n",
        "  \"age\": 27,\n",
        "  \"address\": {\n",
        "    \"streetAddress\": \"21 2nd Street\",\n",
        "    \"city\": \"New York\",\n",
        "    \"state\": \"NY\",\n",
        "    \"postalCode\": \"10021-3100\"\n",
        "  },\n",
        "  \"phoneNumbers\": [\n",
        "    {\n",
        "      \"type\": \"home\",\n",
        "      \"number\": \"212 555-1234\"\n",
        "    },\n",
        "    {\n",
        "      \"type\": \"office\",\n",
        "      \"number\": \"646 555-4567\"\n",
        "    }\n",
        "  ],\n",
        "  \"children\": [\n",
        "      \"Catherine\",\n",
        "      \"Thomas\",\n",
        "      \"Trevor\"\n",
        "  ],\n",
        "  \"spouse\": null\n",
        "}\"\"\""
      ],
      "metadata": {
        "id": "EfixKCkIa6iI"
      },
      "execution_count": null,
      "outputs": []
    },
    {
      "cell_type": "code",
      "source": [
        "#為什麼要這一行\n",
        "import json"
      ],
      "metadata": {
        "id": "67cWZl1KVGcJ"
      },
      "execution_count": null,
      "outputs": []
    },
    {
      "cell_type": "code",
      "source": [
        "data = json.loads(s)"
      ],
      "metadata": {
        "id": "uVoY94LRTQGt"
      },
      "execution_count": null,
      "outputs": []
    },
    {
      "cell_type": "code",
      "source": [
        "data"
      ],
      "metadata": {
        "colab": {
          "base_uri": "https://localhost:8080/"
        },
        "id": "lY2S7zd5aaIC",
        "outputId": "ac538d71-3caa-4fe1-e024-930c6465bf57"
      },
      "execution_count": null,
      "outputs": [
        {
          "output_type": "execute_result",
          "data": {
            "text/plain": [
              "{'firstName': 'John',\n",
              " 'lastName': 'Smith',\n",
              " 'isAlive': True,\n",
              " 'age': 27,\n",
              " 'address': {'streetAddress': '21 2nd Street',\n",
              "  'city': 'New York',\n",
              "  'state': 'NY',\n",
              "  'postalCode': '10021-3100'},\n",
              " 'phoneNumbers': [{'type': 'home', 'number': '212 555-1234'},\n",
              "  {'type': 'office', 'number': '646 555-4567'}],\n",
              " 'children': ['Catherine', 'Thomas', 'Trevor'],\n",
              " 'spouse': None}"
            ]
          },
          "metadata": {},
          "execution_count": 18
        }
      ]
    },
    {
      "cell_type": "code",
      "source": [
        "type(data)"
      ],
      "metadata": {
        "colab": {
          "base_uri": "https://localhost:8080/"
        },
        "id": "-agcxk2AabZu",
        "outputId": "44334731-fda0-4b0e-a4b4-fead8d6fe20a"
      },
      "execution_count": null,
      "outputs": [
        {
          "output_type": "execute_result",
          "data": {
            "text/plain": [
              "dict"
            ]
          },
          "metadata": {},
          "execution_count": 21
        }
      ]
    },
    {
      "cell_type": "code",
      "source": [
        "data['phoneNumbers']"
      ],
      "metadata": {
        "colab": {
          "base_uri": "https://localhost:8080/"
        },
        "id": "soTnN6SicEEO",
        "outputId": "342abb3a-6ec5-442e-aec1-83dc67d19dda"
      },
      "execution_count": null,
      "outputs": [
        {
          "output_type": "execute_result",
          "data": {
            "text/plain": [
              "[{'type': 'home', 'number': '212 555-1234'},\n",
              " {'type': 'office', 'number': '646 555-4567'}]"
            ]
          },
          "metadata": {},
          "execution_count": 25
        }
      ]
    },
    {
      "cell_type": "code",
      "source": [
        "type(data['phoneNumbers'])"
      ],
      "metadata": {
        "colab": {
          "base_uri": "https://localhost:8080/"
        },
        "id": "YxKuflBuc7ek",
        "outputId": "68d93544-992c-497a-99b8-dd6d5f9b6e01"
      },
      "execution_count": null,
      "outputs": [
        {
          "output_type": "execute_result",
          "data": {
            "text/plain": [
              "list"
            ]
          },
          "metadata": {},
          "execution_count": 26
        }
      ]
    },
    {
      "cell_type": "code",
      "source": [
        "data['phoneNumbers'][0]"
      ],
      "metadata": {
        "colab": {
          "base_uri": "https://localhost:8080/"
        },
        "id": "DRY2gOs7dcGN",
        "outputId": "d0b36f2b-ad2a-4985-cc9a-2a71e1683575"
      },
      "execution_count": null,
      "outputs": [
        {
          "output_type": "execute_result",
          "data": {
            "text/plain": [
              "{'type': 'home', 'number': '212 555-1234'}"
            ]
          },
          "metadata": {},
          "execution_count": 27
        }
      ]
    },
    {
      "cell_type": "code",
      "source": [
        "data['phoneNumbers'][0]['number']"
      ],
      "metadata": {
        "colab": {
          "base_uri": "https://localhost:8080/",
          "height": 36
        },
        "id": "bjsrqgpYdo8m",
        "outputId": "610d31fd-7763-47fc-89b7-111c29a9b85c"
      },
      "execution_count": null,
      "outputs": [
        {
          "output_type": "execute_result",
          "data": {
            "text/plain": [
              "'212 555-1234'"
            ],
            "application/vnd.google.colaboratory.intrinsic+json": {
              "type": "string"
            }
          },
          "metadata": {},
          "execution_count": 28
        }
      ]
    },
    {
      "cell_type": "code",
      "source": [],
      "metadata": {
        "id": "vhPAupMUeBvZ"
      },
      "execution_count": null,
      "outputs": []
    }
  ]
}